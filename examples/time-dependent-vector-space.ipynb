{
 "cells": [
  {
   "cell_type": "markdown",
   "metadata": {},
   "source": [
    "Using "
   ]
  },
  {
   "cell_type": "code",
   "execution_count": 1,
   "metadata": {},
   "outputs": [],
   "source": [
    "from torchctrnn import ODERNNCell"
   ]
  },
  {
   "cell_type": "markdown",
   "metadata": {},
   "source": [
    "Below we ..."
   ]
  },
  {
   "cell_type": "code",
   "execution_count": null,
   "metadata": {},
   "outputs": [],
   "source": [
    "class ODENet(nn.Module):\n",
    "    \"\"\"\"\n",
    "    This neural network is the vector space (hidden)\n",
    "    \"\"\"\n",
    "\n",
    "    def __init__(self):\n",
    "        super().__init__()\n",
    "\n",
    "    def forward(t, x):\n",
    "\n",
    "        return 0\n",
    "\n",
    "class EncodeNet(nn.Module):\n",
    "    \"\"\"\"\n",
    "    This neural network will encode x to the vector space (hidden)\n",
    "    \"\"\"\n",
    "\n",
    "    def __init__(self):\n",
    "        super().__init__()\n",
    "\n",
    "    def forward(t, x):\n",
    "\n",
    "        return 0\n",
    "\n",
    "\n",
    "class MainNet():\n",
    "    \"\"\"\n",
    "    \n",
    "    \"\"\"\n",
    "\n",
    "    def __init__(self,odenet,input_dim,hidden_dim,output_dim):\n",
    "        super().__init__()\n",
    "\n",
    "        self.odenet = ODERNNCell(EncodeNet,ODENet,input_dim,hidden_dim)\n",
    "        self.decode = nn.Sequential(\n",
    "            nn.Linear(hidden_dim, hidden_dim),\n",
    "            nn.Tanh(),\n",
    "            nn.Linear(hidden_dim, output_dim),\n",
    "            nn.Softmax(),\n",
    "        )\n",
    "\n",
    "    def forward(dt,x):\n",
    "        \"\"\"\n",
    "        Forward method for the \n",
    "        \"\"\"\n",
    "\n",
    "        T = xt.size(1)\n",
    "        batch_size = x.size(0)\n",
    "        output = torch.zeros(batch_size,T,self.OutputNN.output_dim,device = self.device)\n",
    "        for t in range(0,T):\n",
    "            h = self.odenet(xt,ht,dt)\n",
    "        return \n"
   ]
  }
 ],
 "metadata": {
  "interpreter": {
   "hash": "ecc1c50628902f08c75493490d20a97c4c3cb59d2babb20057f178e65cae767f"
  },
  "kernelspec": {
   "display_name": "Python 3.8.12 ('base')",
   "language": "python",
   "name": "python3"
  },
  "language_info": {
   "codemirror_mode": {
    "name": "ipython",
    "version": 3
   },
   "file_extension": ".py",
   "mimetype": "text/x-python",
   "name": "python",
   "nbconvert_exporter": "python",
   "pygments_lexer": "ipython3",
   "version": "3.8.12"
  },
  "orig_nbformat": 4
 },
 "nbformat": 4,
 "nbformat_minor": 2
}
