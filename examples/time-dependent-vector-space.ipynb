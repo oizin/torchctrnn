{
 "cells": [
  {
   "cell_type": "markdown",
   "metadata": {},
   "source": [
    "# Time dependent vector spaces (work in progress)\n",
    "\n",
    "This notebook describes the use of torchctrnn for situations in which the vector space (parameterised by a neural network) - a neural ODE - depends on both time $t$ and the encoded vector $h(t)$. \n",
    "\n",
    "The data model for the example is:\n",
    "\n",
    "..."
   ]
  },
  {
   "cell_type": "code",
   "execution_count": 87,
   "metadata": {},
   "outputs": [],
   "source": [
    "import torch\n",
    "import torch.nn as nn\n",
    "\n",
    "# torchctrnn library imports:\n",
    "from torchctrnn import ODERNNCell"
   ]
  },
  {
   "cell_type": "markdown",
   "metadata": {},
   "source": [
    "The cell below sets up our networks."
   ]
  },
  {
   "cell_type": "code",
   "execution_count": 88,
   "metadata": {},
   "outputs": [],
   "source": [
    "class ODENet(nn.Module):\n",
    "    \"\"\"\"\n",
    "    Subnetwork\n",
    "    This neural network defines the vector space\n",
    "    Time dependent\n",
    "    \"\"\"\n",
    "\n",
    "    def __init__(self,hidden_size):\n",
    "        super().__init__()\n",
    "\n",
    "        self.hidden_size = hidden_size\n",
    "        self.net = nn.Sequential(\n",
    "            nn.Linear(1+hidden_size, hidden_size),\n",
    "            nn.Tanh(),\n",
    "            nn.Linear(hidden_size, hidden_size),\n",
    "        )\n",
    "\n",
    "    def forward(self,input, t, dt, hidden):\n",
    "        z = torch.cat((t,hidden),1)\n",
    "        return self.net(z)\n",
    "\n",
    "\n",
    "class MainNet(nn.Module):\n",
    "    \"\"\"\n",
    "    Full network\n",
    "    \"\"\"\n",
    "\n",
    "    def __init__(self,ODENet,input_size,hidden_size,output_size):\n",
    "        super().__init__()\n",
    "\n",
    "        self.input_size = input_size\n",
    "        self.hidden_size = hidden_size\n",
    "        self.output_size = output_size\n",
    "        self.odenet = ODERNNCell(ODENet,input_size,hidden_size)\n",
    "        self.decode = nn.Sequential(\n",
    "            nn.Linear(hidden_size, hidden_size),\n",
    "            nn.Tanh(),\n",
    "            nn.Linear(hidden_size, output_size),\n",
    "            nn.Sigmoid(),\n",
    "        )\n",
    "\n",
    "    def forward(self,times,x):\n",
    "        \"\"\"\n",
    "        Forward method for the main model\n",
    "\n",
    "        x = (batch,timestep,features)\n",
    "        times = \n",
    "        \"\"\"\n",
    "\n",
    "        J = x.size(1)\n",
    "        batch_size = x.size(0)\n",
    "        output = torch.zeros(batch_size,J,self.output_size)\n",
    "        h = torch.zeros(batch_size,self.hidden_size)\n",
    "        for j in range(0,J):\n",
    "            xj = x[:,j,:]\n",
    "            times_j = times[:,j]\n",
    "            h = self.odenet(xj,h,times_j)\n",
    "            output[:,j,:] = self.decode(h)\n",
    "            h = h.squeeze(0)\n",
    "        return output"
   ]
  },
  {
   "cell_type": "code",
   "execution_count": 89,
   "metadata": {},
   "outputs": [],
   "source": [
    "x_size = 16  # number of input features\n",
    "hidden_size = 4\n",
    "output_size = 1\n",
    "\n",
    "odenet = ODENet(hidden_size)\n",
    "model = MainNet(odenet,x_size,hidden_size,output_size)"
   ]
  },
  {
   "cell_type": "code",
   "execution_count": 90,
   "metadata": {},
   "outputs": [],
   "source": [
    "n_batch = 2\n",
    "n_step = 10\n",
    "x = torch.randn(n_batch,n_step,x_size) # (batch=1,timestep=1,features=10)\n",
    "times = torch.zeros(n_batch,n_step,2)\n",
    "times[:,:,1] = torch.rand(n_batch,n_step)"
   ]
  },
  {
   "cell_type": "code",
   "execution_count": 91,
   "metadata": {},
   "outputs": [
    {
     "data": {
      "text/plain": [
       "tensor([[[0.4382],\n",
       "         [0.4483],\n",
       "         [0.3933],\n",
       "         [0.4605],\n",
       "         [0.4237],\n",
       "         [0.3824],\n",
       "         [0.4617],\n",
       "         [0.4311],\n",
       "         [0.4842],\n",
       "         [0.4101]],\n",
       "\n",
       "        [[0.4233],\n",
       "         [0.3978],\n",
       "         [0.4532],\n",
       "         [0.4745],\n",
       "         [0.4892],\n",
       "         [0.4694],\n",
       "         [0.4444],\n",
       "         [0.4402],\n",
       "         [0.4911],\n",
       "         [0.4346]]], grad_fn=<CopySlices>)"
      ]
     },
     "execution_count": 91,
     "metadata": {},
     "output_type": "execute_result"
    }
   ],
   "source": [
    "model(times,x)"
   ]
  },
  {
   "cell_type": "code",
   "execution_count": null,
   "metadata": {},
   "outputs": [],
   "source": []
  }
 ],
 "metadata": {
  "interpreter": {
   "hash": "ecc1c50628902f08c75493490d20a97c4c3cb59d2babb20057f178e65cae767f"
  },
  "kernelspec": {
   "display_name": "Python 3.8.12 ('base')",
   "language": "python",
   "name": "python3"
  },
  "language_info": {
   "codemirror_mode": {
    "name": "ipython",
    "version": 3
   },
   "file_extension": ".py",
   "mimetype": "text/x-python",
   "name": "python",
   "nbconvert_exporter": "python",
   "pygments_lexer": "ipython3",
   "version": "3.8.12"
  },
  "orig_nbformat": 4
 },
 "nbformat": 4,
 "nbformat_minor": 2
}
