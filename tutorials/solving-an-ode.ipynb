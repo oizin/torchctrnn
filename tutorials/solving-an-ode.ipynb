{
 "cells": [
  {
   "cell_type": "markdown",
   "metadata": {},
   "source": [
    "Euler method"
   ]
  },
  {
   "cell_type": "code",
   "execution_count": 1,
   "metadata": {},
   "outputs": [],
   "source": [
    "import random\n",
    "import numpy as np"
   ]
  },
  {
   "cell_type": "code",
   "execution_count": 1,
   "metadata": {},
   "outputs": [
    {
     "ename": "SyntaxError",
     "evalue": "invalid syntax (2991016427.py, line 2)",
     "output_type": "error",
     "traceback": [
      "\u001b[0;36m  Cell \u001b[0;32mIn[1], line 2\u001b[0;36m\u001b[0m\n\u001b[0;31m    y0 =\u001b[0m\n\u001b[0m         ^\u001b[0m\n\u001b[0;31mSyntaxError\u001b[0m\u001b[0;31m:\u001b[0m invalid syntax\n"
     ]
    }
   ],
   "source": [
    "def simulate_exp_growth(k):\n",
    "    y0 = \n",
    "    for step in range():\n",
    "        yt = k*yt\n",
    "    \n"
   ]
  },
  {
   "cell_type": "code",
   "execution_count": 31,
   "metadata": {},
   "outputs": [],
   "source": [
    "def simulate_exp_growth(k,times):\n",
    "    y0 = 0.1 + random.random()\n",
    "    yt = y0*np.exp(k*times)\n",
    "    times = np.concatenate(([0.0],times))\n",
    "    yt = np.concatenate(([y0],yt))\n",
    "    out = np.vstack((times,yt)).transpose()\n",
    "    return(out)"
   ]
  },
  {
   "cell_type": "code",
   "execution_count": 41,
   "metadata": {},
   "outputs": [],
   "source": [
    "def sample_times(min=0,max=10,n=10):\n",
    "    times = np.random.rand(n) * (max - min) + min\n",
    "    times.sort()\n",
    "    return(times)"
   ]
  },
  {
   "cell_type": "code",
   "execution_count": 32,
   "metadata": {},
   "outputs": [],
   "source": [
    "X = simulate_exp_growth(0.1,np.array([0.3,0.9,1.3,9.8]))"
   ]
  },
  {
   "cell_type": "code",
   "execution_count": 42,
   "metadata": {},
   "outputs": [
    {
     "data": {
      "text/plain": [
       "array([1.15903642, 1.21873243, 1.66474292, 4.54978784, 5.18559488,\n",
       "       5.70925178, 5.75603218, 5.84207767, 6.20293216, 9.43458417])"
      ]
     },
     "execution_count": 42,
     "metadata": {},
     "output_type": "execute_result"
    }
   ],
   "source": [
    "sample_times()"
   ]
  },
  {
   "cell_type": "code",
   "execution_count": 53,
   "metadata": {},
   "outputs": [],
   "source": [
    "times = np.array([0.0,1.0])\n",
    "dt = 0.01"
   ]
  },
  {
   "cell_type": "code",
   "execution_count": 57,
   "metadata": {},
   "outputs": [
    {
     "data": {
      "text/plain": [
       "100"
      ]
     },
     "execution_count": 57,
     "metadata": {},
     "output_type": "execute_result"
    }
   ],
   "source": [
    "int(np.floor((times[1] - times[0]) / dt))"
   ]
  },
  {
   "cell_type": "code",
   "execution_count": 58,
   "metadata": {},
   "outputs": [],
   "source": [
    "def euler1(func,y0,times,dt):\n",
    "    t = times[0]\n",
    "    yt = y0\n",
    "    steps = int(np.floor((times[1] - times[0]) / dt))\n",
    "    for step in range(0,steps):\n",
    "        yt = yt + dt*func(yt)\n",
    "        t = t + dt\n",
    "    return(yt) "
   ]
  },
  {
   "cell_type": "code",
   "execution_count": 59,
   "metadata": {},
   "outputs": [],
   "source": [
    "def exp_growth_func(k):\n",
    "    def f(y):\n",
    "        return(k*y)\n",
    "    return(f)"
   ]
  },
  {
   "cell_type": "code",
   "execution_count": 60,
   "metadata": {},
   "outputs": [],
   "source": [
    "f1 = exp_growth_func(0.1)"
   ]
  },
  {
   "cell_type": "code",
   "execution_count": 62,
   "metadata": {},
   "outputs": [
    {
     "data": {
      "text/plain": [
       "1.1051156977207672"
      ]
     },
     "execution_count": 62,
     "metadata": {},
     "output_type": "execute_result"
    }
   ],
   "source": [
    "euler1(f1,1.0,np.array([0.0,1.0]),0.01)"
   ]
  },
  {
   "cell_type": "code",
   "execution_count": 64,
   "metadata": {},
   "outputs": [],
   "source": [
    "times = np.array(([0,1],[0,2],[0,3]))"
   ]
  },
  {
   "cell_type": "code",
   "execution_count": 65,
   "metadata": {},
   "outputs": [
    {
     "data": {
      "text/plain": [
       "array([[0, 1],\n",
       "       [0, 2],\n",
       "       [0, 3]])"
      ]
     },
     "execution_count": 65,
     "metadata": {},
     "output_type": "execute_result"
    }
   ],
   "source": [
    "times"
   ]
  },
  {
   "cell_type": "code",
   "execution_count": 66,
   "metadata": {},
   "outputs": [
    {
     "ename": "TypeError",
     "evalue": "only size-1 arrays can be converted to Python scalars",
     "output_type": "error",
     "traceback": [
      "\u001b[0;31m---------------------------------------------------------------------------\u001b[0m",
      "\u001b[0;31mTypeError\u001b[0m                                 Traceback (most recent call last)",
      "\u001b[1;32m/Users/oisin/Library/CloudStorage/OneDrive-UNSW/Shared Documents/Papers/torchctrnn/tutorials/solving-an-ode.ipynb Cell 16\u001b[0m in \u001b[0;36m<cell line: 1>\u001b[0;34m()\u001b[0m\n\u001b[0;32m----> <a href='vscode-notebook-cell:/Users/oisin/Library/CloudStorage/OneDrive-UNSW/Shared%20Documents/Papers/torchctrnn/tutorials/solving-an-ode.ipynb#X25sZmlsZQ%3D%3D?line=0'>1</a>\u001b[0m steps \u001b[39m=\u001b[39m \u001b[39mint\u001b[39;49m(np\u001b[39m.\u001b[39;49mfloor((times[:,\u001b[39m1\u001b[39;49m] \u001b[39m-\u001b[39;49m times[:,\u001b[39m0\u001b[39;49m]) \u001b[39m/\u001b[39;49m dt))\n",
      "\u001b[0;31mTypeError\u001b[0m: only size-1 arrays can be converted to Python scalars"
     ]
    }
   ],
   "source": [
    "steps = int(np.floor((times[:,1] - times[:,0]) / dt))"
   ]
  },
  {
   "cell_type": "code",
   "execution_count": 71,
   "metadata": {},
   "outputs": [],
   "source": [
    "steps = np.floor((times[:,1] - times[:,0]) / dt)"
   ]
  },
  {
   "cell_type": "code",
   "execution_count": 72,
   "metadata": {},
   "outputs": [],
   "source": [
    "max_steps = np.max(steps)"
   ]
  },
  {
   "cell_type": "code",
   "execution_count": 73,
   "metadata": {},
   "outputs": [
    {
     "data": {
      "text/plain": [
       "300.0"
      ]
     },
     "execution_count": 73,
     "metadata": {},
     "output_type": "execute_result"
    }
   ],
   "source": [
    "max_steps"
   ]
  },
  {
   "cell_type": "code",
   "execution_count": null,
   "metadata": {},
   "outputs": [],
   "source": [
    "def euler2(func,y0,times,dt):\n",
    "    t = times[0]\n",
    "    yt = y0\n",
    "    steps = np.floor((times[1] - times[0]) / dt)\n",
    "    max_steps = \n",
    "    for step in range(0,int(max_steps)):\n",
    "        yt = yt + dt*func(yt)\n",
    "        t = t + dt\n",
    "    return(yt) "
   ]
  },
  {
   "cell_type": "code",
   "execution_count": null,
   "metadata": {},
   "outputs": [],
   "source": []
  }
 ],
 "metadata": {
  "kernelspec": {
   "display_name": "Python 3.9.12 ('base')",
   "language": "python",
   "name": "python3"
  },
  "language_info": {
   "codemirror_mode": {
    "name": "ipython",
    "version": 3
   },
   "file_extension": ".py",
   "mimetype": "text/x-python",
   "name": "python",
   "nbconvert_exporter": "python",
   "pygments_lexer": "ipython3",
   "version": "3.9.12"
  },
  "orig_nbformat": 4,
  "vscode": {
   "interpreter": {
    "hash": "3d597f4c481aa0f25dceb95d2a0067e73c0966dcbd003d741d821a7208527ecf"
   }
  }
 },
 "nbformat": 4,
 "nbformat_minor": 2
}
