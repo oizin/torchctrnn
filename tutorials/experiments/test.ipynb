{
 "cells": [
  {
   "cell_type": "code",
   "execution_count": 2,
   "metadata": {},
   "outputs": [],
   "source": [
    "import torch\n",
    "import torch.nn as nn"
   ]
  },
  {
   "cell_type": "code",
   "execution_count": 3,
   "metadata": {},
   "outputs": [],
   "source": [
    "hidden_size = 10\n",
    "net = nn.Sequential(\n",
    "            nn.Linear(1+hidden_size, 50),\n",
    "            nn.Tanh(),\n",
    "            nn.Linear(50, hidden_size),\n",
    "        )"
   ]
  },
  {
   "cell_type": "code",
   "execution_count": 4,
   "metadata": {},
   "outputs": [],
   "source": [
    "ms = []\n",
    "for m in net.modules():\n",
    "    ms.append(m)"
   ]
  },
  {
   "cell_type": "code",
   "execution_count": 5,
   "metadata": {},
   "outputs": [
    {
     "data": {
      "text/plain": [
       "11"
      ]
     },
     "execution_count": 5,
     "metadata": {},
     "output_type": "execute_result"
    }
   ],
   "source": [
    "ms[1].in_features"
   ]
  },
  {
   "cell_type": "code",
   "execution_count": 6,
   "metadata": {},
   "outputs": [
    {
     "data": {
      "text/plain": [
       "10"
      ]
     },
     "execution_count": 6,
     "metadata": {},
     "output_type": "execute_result"
    }
   ],
   "source": [
    "ms[3].out_features"
   ]
  },
  {
   "cell_type": "code",
   "execution_count": 7,
   "metadata": {},
   "outputs": [
    {
     "data": {
      "text/plain": [
       "Tanh()"
      ]
     },
     "execution_count": 7,
     "metadata": {},
     "output_type": "execute_result"
    }
   ],
   "source": [
    "ms[2]"
   ]
  },
  {
   "cell_type": "code",
   "execution_count": 14,
   "metadata": {},
   "outputs": [],
   "source": [
    "layers = []\n",
    "for layer in net.children():\n",
    "    if \n",
    "    layers.append(layer)"
   ]
  },
  {
   "cell_type": "code",
   "execution_count": 29,
   "metadata": {},
   "outputs": [
    {
     "data": {
      "text/plain": [
       "[Linear(in_features=11, out_features=50, bias=True),\n",
       " Tanh(),\n",
       " Linear(in_features=50, out_features=10, bias=True)]"
      ]
     },
     "execution_count": 29,
     "metadata": {},
     "output_type": "execute_result"
    }
   ],
   "source": [
    "layers"
   ]
  },
  {
   "cell_type": "code",
   "execution_count": 28,
   "metadata": {},
   "outputs": [
    {
     "ename": "TypeError",
     "evalue": "type() missing 1 required positional argument: 'dst_type'",
     "output_type": "error",
     "traceback": [
      "\u001b[0;31m---------------------------------------------------------------------------\u001b[0m",
      "\u001b[0;31mTypeError\u001b[0m                                 Traceback (most recent call last)",
      "\u001b[1;32m/home/oisin/projects/torchctrnn/tutorials/experiments/test.ipynb Cell 9'\u001b[0m in \u001b[0;36m<cell line: 1>\u001b[0;34m()\u001b[0m\n\u001b[0;32m----> <a href='vscode-notebook-cell://wsl%2Bubuntu-20.04/home/oisin/projects/torchctrnn/tutorials/experiments/test.ipynb#ch0000019vscode-remote?line=0'>1</a>\u001b[0m layers[\u001b[39m2\u001b[39;49m]\u001b[39m.\u001b[39;49mtype()\n",
      "\u001b[0;31mTypeError\u001b[0m: type() missing 1 required positional argument: 'dst_type'"
     ]
    }
   ],
   "source": [
    "layers[2].type()"
   ]
  },
  {
   "cell_type": "code",
   "execution_count": 17,
   "metadata": {},
   "outputs": [
    {
     "data": {
      "text/plain": [
       "True"
      ]
     },
     "execution_count": 17,
     "metadata": {},
     "output_type": "execute_result"
    }
   ],
   "source": [
    "hasattr(layers[0], 'in_features') "
   ]
  },
  {
   "cell_type": "code",
   "execution_count": 12,
   "metadata": {},
   "outputs": [
    {
     "data": {
      "text/plain": [
       "4"
      ]
     },
     "execution_count": 12,
     "metadata": {},
     "output_type": "execute_result"
    }
   ],
   "source": [
    "len(list(net.parameters()))"
   ]
  },
  {
   "cell_type": "code",
   "execution_count": 10,
   "metadata": {},
   "outputs": [
    {
     "name": "stdout",
     "output_type": "stream",
     "text": [
      "torch.Size([50, 11])\n",
      "torch.Size([50])\n",
      "torch.Size([10, 50])\n",
      "torch.Size([10])\n"
     ]
    }
   ],
   "source": [
    "shapes = []\n",
    "for i,p in enumerate(net.parameters()):\n",
    "    print(p.shape)"
   ]
  },
  {
   "cell_type": "code",
   "execution_count": 50,
   "metadata": {},
   "outputs": [
    {
     "name": "stdout",
     "output_type": "stream",
     "text": [
      "0 ('', Sequential(\n",
      "  (0): Linear(in_features=11, out_features=50, bias=True)\n",
      "  (1): Tanh()\n",
      "  (2): Linear(in_features=50, out_features=10, bias=True)\n",
      "))\n",
      "1 ('0', Linear(in_features=11, out_features=50, bias=True))\n",
      "2 ('1', Tanh())\n",
      "3 ('2', Linear(in_features=50, out_features=10, bias=True))\n"
     ]
    }
   ],
   "source": [
    "for i,m in enumerate(net.named_modules()):\n",
    "    print(i,m)"
   ]
  },
  {
   "cell_type": "code",
   "execution_count": 48,
   "metadata": {},
   "outputs": [
    {
     "data": {
      "text/plain": [
       "<generator object Module.named_modules at 0x7f9aa433e510>"
      ]
     },
     "execution_count": 48,
     "metadata": {},
     "output_type": "execute_result"
    }
   ],
   "source": [
    "net.named_modules()"
   ]
  },
  {
   "cell_type": "code",
   "execution_count": 35,
   "metadata": {},
   "outputs": [
    {
     "data": {
      "text/plain": [
       "<bound method Module.parameters of Sequential(\n",
       "  (0): Linear(in_features=11, out_features=50, bias=True)\n",
       "  (1): Tanh()\n",
       "  (2): Linear(in_features=50, out_features=10, bias=True)\n",
       ")>"
      ]
     },
     "execution_count": 35,
     "metadata": {},
     "output_type": "execute_result"
    }
   ],
   "source": [
    "net.parameters"
   ]
  },
  {
   "cell_type": "code",
   "execution_count": 30,
   "metadata": {},
   "outputs": [
    {
     "data": {
      "text/plain": [
       "48"
      ]
     },
     "execution_count": 30,
     "metadata": {},
     "output_type": "execute_result"
    }
   ],
   "source": [
    "net.parameters"
   ]
  },
  {
   "cell_type": "code",
   "execution_count": 6,
   "metadata": {},
   "outputs": [],
   "source": [
    "import inspect"
   ]
  },
  {
   "cell_type": "code",
   "execution_count": 10,
   "metadata": {},
   "outputs": [
    {
     "data": {
      "text/plain": [
       "True"
      ]
     },
     "execution_count": 10,
     "metadata": {},
     "output_type": "execute_result"
    }
   ],
   "source": [
    "type(net) == nn.Sequential"
   ]
  },
  {
   "cell_type": "code",
   "execution_count": 12,
   "metadata": {},
   "outputs": [
    {
     "data": {
      "text/plain": [
       "['input']"
      ]
     },
     "execution_count": 12,
     "metadata": {},
     "output_type": "execute_result"
    }
   ],
   "source": [
    "inspect.getfullargspec(net.forward).args[1:]"
   ]
  },
  {
   "cell_type": "code",
   "execution_count": null,
   "metadata": {},
   "outputs": [],
   "source": [
    "class NeuralODEfromSequential(nn.Module):\n",
    "    def __init__(self,net:nn.Sequential,time_dependent=False,data_dependent=False):\n",
    "\n",
    "        self.net = net\n",
    "        self.has_t_arg = time_dependent\n",
    "        self.has_input_arg = data_dependent\n",
    "\n",
    "    def forward(self,hidden,t):\n",
    "        if self.has_input_arg and self.has_t_arg:\n",
    "            # dh/ds = f(h,t,x)\n",
    "            z = torch.cat((hidden,t,input),1)\n",
    "            output = net.forward(z)\n",
    "        elif self.has_input_arg and not self.has_t_arg:\n",
    "            # dh/ds=f(h,x)\n",
    "            z = torch.cat((hidden,input),1)\n",
    "            output = net.forward(z)\n",
    "        elif not self.has_input_arg and self.has_t_arg:\n",
    "            # dh/ds=f(h,t)\n",
    "            z = torch.cat((hidden,t),1)\n",
    "            output = net.forward(z)\n",
    "        else:\n",
    "            # dh/ds=f(h)\n",
    "            output = net.forward(hidden)\n",
    "        return output"
   ]
  }
 ],
 "metadata": {
  "interpreter": {
   "hash": "ecc1c50628902f08c75493490d20a97c4c3cb59d2babb20057f178e65cae767f"
  },
  "kernelspec": {
   "display_name": "Python 3.8.12 ('base')",
   "language": "python",
   "name": "python3"
  },
  "language_info": {
   "codemirror_mode": {
    "name": "ipython",
    "version": 3
   },
   "file_extension": ".py",
   "mimetype": "text/x-python",
   "name": "python",
   "nbconvert_exporter": "python",
   "pygments_lexer": "ipython3",
   "version": "3.8.12"
  },
  "orig_nbformat": 4
 },
 "nbformat": 4,
 "nbformat_minor": 2
}
